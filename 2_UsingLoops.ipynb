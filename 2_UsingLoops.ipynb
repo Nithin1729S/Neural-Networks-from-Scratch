{
 "cells": [
  {
   "cell_type": "markdown",
   "id": "60bc3f13",
   "metadata": {},
   "source": [
    "Single Neuron"
   ]
  },
  {
   "cell_type": "code",
   "execution_count": 1,
   "id": "491d1ac1",
   "metadata": {},
   "outputs": [],
   "source": [
    "import numpy as np"
   ]
  },
  {
   "cell_type": "code",
   "execution_count": 2,
   "id": "fa7a8756",
   "metadata": {},
   "outputs": [],
   "source": [
    "inputs=[1,2,3]\n",
    "weights=[0.2,0.8,-0.5]\n",
    "bias=2"
   ]
  },
  {
   "cell_type": "code",
   "execution_count": 4,
   "id": "02c65e83",
   "metadata": {},
   "outputs": [
    {
     "data": {
      "text/plain": [
       "2.3"
      ]
     },
     "execution_count": 4,
     "metadata": {},
     "output_type": "execute_result"
    }
   ],
   "source": [
    "output=0\n",
    "for i,w in zip(inputs,weights):\n",
    "    output+=i*w\n",
    "output+=bias\n",
    "output"
   ]
  },
  {
   "cell_type": "code",
   "execution_count": 5,
   "id": "69053091",
   "metadata": {},
   "outputs": [
    {
     "data": {
      "text/plain": [
       "2.3"
      ]
     },
     "execution_count": 5,
     "metadata": {},
     "output_type": "execute_result"
    }
   ],
   "source": [
    "output=np.dot(inputs,weights)+bias\n",
    "output"
   ]
  },
  {
   "cell_type": "markdown",
   "id": "7ac5d6b9",
   "metadata": {},
   "source": [
    "Layers of neurons"
   ]
  },
  {
   "cell_type": "code",
   "execution_count": 6,
   "id": "5584fb05",
   "metadata": {},
   "outputs": [],
   "source": [
    "inputs=[1,2,3,2.5]\n",
    "weights=[[0.2,0.8,-0.5,1],[0.5,-0.91,0.26,-0.5],[-0.26,-0.27,0.17,0.87]]\n",
    "bias=[2,3,0.5]"
   ]
  },
  {
   "cell_type": "code",
   "execution_count": 14,
   "id": "1600be2c",
   "metadata": {},
   "outputs": [
    {
     "data": {
      "text/plain": [
       "array([4.8  , 1.21 , 2.385])"
      ]
     },
     "execution_count": 14,
     "metadata": {},
     "output_type": "execute_result"
    }
   ],
   "source": [
    "output=np.dot(weights,inputs)+bias\n",
    "output"
   ]
  },
  {
   "cell_type": "markdown",
   "id": "828ccbc1",
   "metadata": {},
   "source": [
    "Batch of data"
   ]
  },
  {
   "cell_type": "code",
   "execution_count": 15,
   "id": "189c8013",
   "metadata": {},
   "outputs": [],
   "source": [
    "inputs=[[1,2,3,2.5],[2,5,-1,2],[-1.5,2.7,3.3,-0.8]]\n",
    "weights=[\n",
    "    [0.2,0.8,-0.5,1],\n",
    "    [0.5,-0.91,0.26,-0.5],\n",
    "    [-0.26,-0.27,0.17,0.87]\n",
    "]\n",
    "biases=[2.0,3.0,0.5]"
   ]
  },
  {
   "cell_type": "code",
   "execution_count": 16,
   "id": "d437a4cf",
   "metadata": {},
   "outputs": [],
   "source": [
    "outputs=np.dot(inputs,np.array(weights).T) +biases"
   ]
  },
  {
   "cell_type": "code",
   "execution_count": 17,
   "id": "327bc0db",
   "metadata": {},
   "outputs": [
    {
     "data": {
      "text/plain": [
       "array([[ 4.8  ,  1.21 ,  2.385],\n",
       "       [ 8.9  , -1.81 ,  0.2  ],\n",
       "       [ 1.41 ,  1.051,  0.026]])"
      ]
     },
     "execution_count": 17,
     "metadata": {},
     "output_type": "execute_result"
    }
   ],
   "source": [
    "outputs"
   ]
  },
  {
   "cell_type": "code",
   "execution_count": null,
   "id": "222e7329",
   "metadata": {},
   "outputs": [],
   "source": []
  }
 ],
 "metadata": {
  "kernelspec": {
   "display_name": "Python 3 (ipykernel)",
   "language": "python",
   "name": "python3"
  },
  "language_info": {
   "codemirror_mode": {
    "name": "ipython",
    "version": 3
   },
   "file_extension": ".py",
   "mimetype": "text/x-python",
   "name": "python",
   "nbconvert_exporter": "python",
   "pygments_lexer": "ipython3",
   "version": "3.10.12"
  }
 },
 "nbformat": 4,
 "nbformat_minor": 5
}
