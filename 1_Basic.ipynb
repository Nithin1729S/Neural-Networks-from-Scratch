{
 "cells": [
  {
   "cell_type": "code",
   "execution_count": 17,
   "id": "b0858741",
   "metadata": {},
   "outputs": [],
   "source": [
    "inputs=[1,2,3]\n",
    "weights=[0.2,0.8,-0.5]\n",
    "bias=2\n",
    "outputs=0"
   ]
  },
  {
   "cell_type": "code",
   "execution_count": 18,
   "id": "c07e174a",
   "metadata": {},
   "outputs": [],
   "source": [
    "for i in range(0,len(inputs)):\n",
    "    outputs+=(inputs[i]*weights[i])\n",
    "outputs+=bias"
   ]
  },
  {
   "cell_type": "code",
   "execution_count": 19,
   "id": "9c864818",
   "metadata": {},
   "outputs": [
    {
     "data": {
      "text/plain": [
       "2.3"
      ]
     },
     "execution_count": 19,
     "metadata": {},
     "output_type": "execute_result"
    }
   ],
   "source": [
    "outputs"
   ]
  },
  {
   "cell_type": "markdown",
   "id": "ad4ffdfc",
   "metadata": {},
   "source": [
    "Layers of Neurons  4inputs 3 neurons"
   ]
  },
  {
   "cell_type": "code",
   "execution_count": 22,
   "id": "fcb7f4c2",
   "metadata": {},
   "outputs": [],
   "source": [
    "inputs=[1,2,3,2.5]\n",
    "weights=[[0.2,0.8,-0.5,1],[0.5,-0.91,0.26,-0.5],[-0.26,-0.27,0.17,0.87]]\n",
    "bias=[2,3,0.5]"
   ]
  },
  {
   "cell_type": "markdown",
   "id": "e5cff8cc",
   "metadata": {},
   "source": [
    "weights[i] ---> weights associated with ith neuron"
   ]
  },
  {
   "cell_type": "code",
   "execution_count": 26,
   "id": "0a077f6b",
   "metadata": {},
   "outputs": [],
   "source": [
    "outputs=[]\n",
    "for i in range(0,len(bias)):\n",
    "    res=0\n",
    "    for j in range(0,len(inputs)):\n",
    "        res+=(weights[i][j]*inputs[j])\n",
    "    res+=bias[i]\n",
    "    outputs.append(res)"
   ]
  },
  {
   "cell_type": "code",
   "execution_count": 27,
   "id": "7bd9156d",
   "metadata": {},
   "outputs": [
    {
     "data": {
      "text/plain": [
       "[4.8, 1.21, 2.385]"
      ]
     },
     "execution_count": 27,
     "metadata": {},
     "output_type": "execute_result"
    }
   ],
   "source": [
    "outputs"
   ]
  },
  {
   "cell_type": "markdown",
   "id": "cc6fb892",
   "metadata": {},
   "source": [
    "More cleaner approach"
   ]
  },
  {
   "cell_type": "code",
   "execution_count": 29,
   "id": "bfd66e53",
   "metadata": {},
   "outputs": [
    {
     "name": "stdout",
     "output_type": "stream",
     "text": [
      "[4.8, 1.21, 2.385]\n"
     ]
    }
   ],
   "source": [
    "outputs=[]\n",
    "for neuron_wt,neuron_bias in zip(weights,bias):\n",
    "    neuron_output=0\n",
    "    for input_,weight_ in zip(inputs,neuron_wt):\n",
    "        neuron_output+=(input_*weight_)\n",
    "    neuron_output+=neuron_bias\n",
    "    outputs.append(neuron_output)\n",
    "print(outputs)"
   ]
  },
  {
   "cell_type": "markdown",
   "id": "9df92d43",
   "metadata": {},
   "source": [
    "Using Numpy"
   ]
  },
  {
   "cell_type": "code",
   "execution_count": 30,
   "id": "45a0b2ea",
   "metadata": {},
   "outputs": [],
   "source": [
    "import numpy as np"
   ]
  },
  {
   "cell_type": "code",
   "execution_count": null,
   "id": "3084924c",
   "metadata": {},
   "outputs": [],
   "source": []
  }
 ],
 "metadata": {
  "kernelspec": {
   "display_name": "Python 3 (ipykernel)",
   "language": "python",
   "name": "python3"
  },
  "language_info": {
   "codemirror_mode": {
    "name": "ipython",
    "version": 3
   },
   "file_extension": ".py",
   "mimetype": "text/x-python",
   "name": "python",
   "nbconvert_exporter": "python",
   "pygments_lexer": "ipython3",
   "version": "3.10.12"
  }
 },
 "nbformat": 4,
 "nbformat_minor": 5
}
